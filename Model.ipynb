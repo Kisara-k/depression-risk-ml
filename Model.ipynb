{
 "cells": [
  {
   "cell_type": "markdown",
   "metadata": {},
   "source": [
    "# Depression Risk Prediction\n",
    "\n",
    "**Objective**: Predict depression risk based on various demographic, academic, and lifestyle factors\n",
    "\n",
    "**Algorithm**: XGBoost with hyperparameter optimization\n",
    "\n",
    "**Validation**: Stratified K-Fold Cross Validation\n",
    "\n",
    "**Metrics**: AUC-ROC, Accuracy, F1-Score\n",
    "\n",
    "**Results**: 0.9745, 0.9381, 0.8252"
   ]
  },
  {
   "cell_type": "code",
   "execution_count": 1,
   "metadata": {
    "_cell_guid": "b1076dfc-b9ad-4769-8c92-a6c4dae69d19",
    "_uuid": "8f2839f25d086af736a60e9eeb907d3b93b6e0e5",
    "execution": {
     "iopub.execute_input": "2025-03-14T14:50:30.438444Z",
     "iopub.status.busy": "2025-03-14T14:50:30.438137Z",
     "iopub.status.idle": "2025-03-14T14:50:30.821450Z",
     "shell.execute_reply": "2025-03-14T14:50:30.820438Z",
     "shell.execute_reply.started": "2025-03-14T14:50:30.438408Z"
    },
    "trusted": true
   },
   "outputs": [],
   "source": [
    "import numpy as np\n",
    "import pandas as pd\n",
    "\n",
    "pd.options.mode.chained_assignment = None"
   ]
  },
  {
   "cell_type": "markdown",
   "metadata": {},
   "source": [
    "## Data Preprocessing and Feature Engineering"
   ]
  },
  {
   "cell_type": "code",
   "execution_count": 50,
   "metadata": {
    "execution": {
     "iopub.execute_input": "2025-03-14T16:41:25.645237Z",
     "iopub.status.busy": "2025-03-14T16:41:25.644841Z",
     "iopub.status.idle": "2025-03-14T16:41:25.653504Z",
     "shell.execute_reply": "2025-03-14T16:41:25.652485Z",
     "shell.execute_reply.started": "2025-03-14T16:41:25.645208Z"
    },
    "trusted": true
   },
   "outputs": [],
   "source": [
    "def preprocess(path):\n",
    "    df = pd.read_csv(path, index_col=0)\n",
    "\n",
    "    column_types = {\n",
    "        \"numerical\": [\n",
    "            \"Age\",\n",
    "            \"Work/Study Hours\"\n",
    "            \"CGPA\",              # Has NA\n",
    "        ],\n",
    "        \"ordinal\": [\n",
    "            \"Academic Pressure\", # Has NA\n",
    "            \"Study Satisfaction\",# Has NA\n",
    "            \"Work Pressure\",     # Has NA\n",
    "            \"Job Satisfaction\",  # Has NA\n",
    "            \"Financial Stress\",\n",
    "            \"Sleep Quality\",     # Engineered\n",
    "        ],\n",
    "        \"categorical\": [\n",
    "            \"Gender\",\n",
    "            \"Working Professional or Student\",\n",
    "            \"Dietary Habits\",\n",
    "            \"Have you ever had suicidal thoughts ?\", \n",
    "            \"Family History of Mental Illness\",\n",
    "            \"Sleep Duration\",                  # Dropped\n",
    "        ],\n",
    "        \"categorical_high\": [\n",
    "            \"City\", \n",
    "            \"Profession\", # Has NA\n",
    "            \"Degree\", \n",
    "        ],\n",
    "        \"target\": \"Depression\"\n",
    "    }\n",
    "\n",
    "    sleep_time_map = {\n",
    "        \"Less than 5 hours\": 1.0,\n",
    "        \"5-6 hours\": 2.0,\n",
    "        \"6-7 hours\": 3.0,\n",
    "        \"7-8 hours\": 4.0,\n",
    "        \"More than 8 hours\": 5.0,\n",
    "        \"3-4 hours\": 1.0,\n",
    "        \"4-5 hours\": 1.0,\n",
    "        \"2-3 hours\": 1.0,\n",
    "        \"4-6 hours\": 2.0,\n",
    "        \"6-8 hours\": 4.0,\n",
    "    }\n",
    "    \n",
    "    df[\"Sleep Quality\"] = df[\"Sleep Duration\"].map(sleep_time_map)\n",
    "\n",
    "    df.loc[\n",
    "        (df['Profession'].isna()) & (df['Working Professional or Student'] == 'Student'), 'Profession'\n",
    "    ] = 'Student'\n",
    "    \n",
    "    for col in column_types['ordinal']:\n",
    "        df[col].fillna(-1, inplace=True)\n",
    "    \n",
    "    df[\"CGPA\"].fillna(-1, inplace=True)\n",
    "\n",
    "    \n",
    "    cols = [\"Profession\", \"Degree\", \"Dietary Habits\", \"City\"]\n",
    "    \n",
    "    for col in cols:\n",
    "        \n",
    "        df[col].fillna(\"NA\", inplace=True)\n",
    "        \n",
    "        valid = df[col].value_counts()\n",
    "        valid = valid[valid > 50].index.tolist()\n",
    "        \n",
    "        df[col] = df[col].apply(\n",
    "            lambda x: x if x in valid else \"Other\"\n",
    "        )\n",
    "        \n",
    "    df = df.drop(columns=[\"Name\", \"Sleep Duration\"], errors=\"ignore\")\n",
    "\n",
    "    return df"
   ]
  },
  {
   "cell_type": "code",
   "execution_count": 51,
   "metadata": {
    "execution": {
     "iopub.execute_input": "2025-03-14T16:41:30.863934Z",
     "iopub.status.busy": "2025-03-14T16:41:30.863497Z",
     "iopub.status.idle": "2025-03-14T16:41:30.869027Z",
     "shell.execute_reply": "2025-03-14T16:41:30.867763Z",
     "shell.execute_reply.started": "2025-03-14T16:41:30.863887Z"
    },
    "trusted": true
   },
   "outputs": [],
   "source": [
    "train_path = '/kaggle/input/predicting-depression-machine-learning-challenge/train.csv'\n",
    "test_path = '/kaggle/input/predicting-depression-machine-learning-challenge/test.csv'"
   ]
  },
  {
   "cell_type": "code",
   "execution_count": null,
   "metadata": {
    "trusted": true
   },
   "outputs": [],
   "source": [
    "df = preprocess(train_path)\n",
    "df_test = preprocess(test_path)"
   ]
  },
  {
   "cell_type": "code",
   "execution_count": 32,
   "metadata": {
    "execution": {
     "iopub.execute_input": "2025-03-14T15:04:40.921777Z",
     "iopub.status.busy": "2025-03-14T15:04:40.921443Z",
     "iopub.status.idle": "2025-03-14T15:04:40.945952Z",
     "shell.execute_reply": "2025-03-14T15:04:40.944984Z",
     "shell.execute_reply.started": "2025-03-14T15:04:40.921751Z"
    },
    "trusted": true
   },
   "outputs": [
    {
     "data": {
      "text/html": [
       "<div>\n",
       "<style scoped>\n",
       "    .dataframe tbody tr th:only-of-type {\n",
       "        vertical-align: middle;\n",
       "    }\n",
       "\n",
       "    .dataframe tbody tr th {\n",
       "        vertical-align: top;\n",
       "    }\n",
       "\n",
       "    .dataframe thead th {\n",
       "        text-align: right;\n",
       "    }\n",
       "</style>\n",
       "<table border=\"1\" class=\"dataframe\">\n",
       "  <thead>\n",
       "    <tr style=\"text-align: right;\">\n",
       "      <th></th>\n",
       "      <th>Gender</th>\n",
       "      <th>Age</th>\n",
       "      <th>City</th>\n",
       "      <th>Working Professional or Student</th>\n",
       "      <th>Profession</th>\n",
       "      <th>Academic Pressure</th>\n",
       "      <th>Work Pressure</th>\n",
       "      <th>CGPA</th>\n",
       "      <th>Study Satisfaction</th>\n",
       "      <th>Job Satisfaction</th>\n",
       "      <th>Dietary Habits</th>\n",
       "      <th>Degree</th>\n",
       "      <th>Have you ever had suicidal thoughts ?</th>\n",
       "      <th>Work/Study Hours</th>\n",
       "      <th>Financial Stress</th>\n",
       "      <th>Family History of Mental Illness</th>\n",
       "      <th>Depression</th>\n",
       "      <th>Sleep Quality</th>\n",
       "    </tr>\n",
       "    <tr>\n",
       "      <th>id</th>\n",
       "      <th></th>\n",
       "      <th></th>\n",
       "      <th></th>\n",
       "      <th></th>\n",
       "      <th></th>\n",
       "      <th></th>\n",
       "      <th></th>\n",
       "      <th></th>\n",
       "      <th></th>\n",
       "      <th></th>\n",
       "      <th></th>\n",
       "      <th></th>\n",
       "      <th></th>\n",
       "      <th></th>\n",
       "      <th></th>\n",
       "      <th></th>\n",
       "      <th></th>\n",
       "      <th></th>\n",
       "    </tr>\n",
       "  </thead>\n",
       "  <tbody>\n",
       "    <tr>\n",
       "      <th>0</th>\n",
       "      <td>Female</td>\n",
       "      <td>49.0</td>\n",
       "      <td>Ludhiana</td>\n",
       "      <td>Working Professional</td>\n",
       "      <td>Chef</td>\n",
       "      <td>-1.0</td>\n",
       "      <td>5.0</td>\n",
       "      <td>-1.00</td>\n",
       "      <td>-1.0</td>\n",
       "      <td>2.0</td>\n",
       "      <td>Healthy</td>\n",
       "      <td>BHM</td>\n",
       "      <td>No</td>\n",
       "      <td>1.0</td>\n",
       "      <td>2.0</td>\n",
       "      <td>No</td>\n",
       "      <td>0</td>\n",
       "      <td>5.0</td>\n",
       "    </tr>\n",
       "    <tr>\n",
       "      <th>1</th>\n",
       "      <td>Male</td>\n",
       "      <td>26.0</td>\n",
       "      <td>Varanasi</td>\n",
       "      <td>Working Professional</td>\n",
       "      <td>Teacher</td>\n",
       "      <td>-1.0</td>\n",
       "      <td>4.0</td>\n",
       "      <td>-1.00</td>\n",
       "      <td>-1.0</td>\n",
       "      <td>3.0</td>\n",
       "      <td>Unhealthy</td>\n",
       "      <td>LLB</td>\n",
       "      <td>Yes</td>\n",
       "      <td>7.0</td>\n",
       "      <td>3.0</td>\n",
       "      <td>No</td>\n",
       "      <td>1</td>\n",
       "      <td>1.0</td>\n",
       "    </tr>\n",
       "    <tr>\n",
       "      <th>2</th>\n",
       "      <td>Male</td>\n",
       "      <td>33.0</td>\n",
       "      <td>Visakhapatnam</td>\n",
       "      <td>Student</td>\n",
       "      <td>NA</td>\n",
       "      <td>5.0</td>\n",
       "      <td>-1.0</td>\n",
       "      <td>8.97</td>\n",
       "      <td>2.0</td>\n",
       "      <td>-1.0</td>\n",
       "      <td>Healthy</td>\n",
       "      <td>B.Pharm</td>\n",
       "      <td>Yes</td>\n",
       "      <td>3.0</td>\n",
       "      <td>1.0</td>\n",
       "      <td>No</td>\n",
       "      <td>1</td>\n",
       "      <td>2.0</td>\n",
       "    </tr>\n",
       "    <tr>\n",
       "      <th>3</th>\n",
       "      <td>Male</td>\n",
       "      <td>22.0</td>\n",
       "      <td>Mumbai</td>\n",
       "      <td>Working Professional</td>\n",
       "      <td>Teacher</td>\n",
       "      <td>-1.0</td>\n",
       "      <td>5.0</td>\n",
       "      <td>-1.00</td>\n",
       "      <td>-1.0</td>\n",
       "      <td>1.0</td>\n",
       "      <td>Moderate</td>\n",
       "      <td>BBA</td>\n",
       "      <td>Yes</td>\n",
       "      <td>10.0</td>\n",
       "      <td>1.0</td>\n",
       "      <td>Yes</td>\n",
       "      <td>1</td>\n",
       "      <td>1.0</td>\n",
       "    </tr>\n",
       "    <tr>\n",
       "      <th>4</th>\n",
       "      <td>Female</td>\n",
       "      <td>30.0</td>\n",
       "      <td>Kanpur</td>\n",
       "      <td>Working Professional</td>\n",
       "      <td>Business Analyst</td>\n",
       "      <td>-1.0</td>\n",
       "      <td>1.0</td>\n",
       "      <td>-1.00</td>\n",
       "      <td>-1.0</td>\n",
       "      <td>1.0</td>\n",
       "      <td>Unhealthy</td>\n",
       "      <td>BBA</td>\n",
       "      <td>Yes</td>\n",
       "      <td>9.0</td>\n",
       "      <td>4.0</td>\n",
       "      <td>Yes</td>\n",
       "      <td>0</td>\n",
       "      <td>2.0</td>\n",
       "    </tr>\n",
       "    <tr>\n",
       "      <th>...</th>\n",
       "      <td>...</td>\n",
       "      <td>...</td>\n",
       "      <td>...</td>\n",
       "      <td>...</td>\n",
       "      <td>...</td>\n",
       "      <td>...</td>\n",
       "      <td>...</td>\n",
       "      <td>...</td>\n",
       "      <td>...</td>\n",
       "      <td>...</td>\n",
       "      <td>...</td>\n",
       "      <td>...</td>\n",
       "      <td>...</td>\n",
       "      <td>...</td>\n",
       "      <td>...</td>\n",
       "      <td>...</td>\n",
       "      <td>...</td>\n",
       "      <td>...</td>\n",
       "    </tr>\n",
       "    <tr>\n",
       "      <th>140695</th>\n",
       "      <td>Female</td>\n",
       "      <td>18.0</td>\n",
       "      <td>Ahmedabad</td>\n",
       "      <td>Working Professional</td>\n",
       "      <td>NA</td>\n",
       "      <td>-1.0</td>\n",
       "      <td>5.0</td>\n",
       "      <td>-1.00</td>\n",
       "      <td>-1.0</td>\n",
       "      <td>4.0</td>\n",
       "      <td>Unhealthy</td>\n",
       "      <td>Class 12</td>\n",
       "      <td>No</td>\n",
       "      <td>2.0</td>\n",
       "      <td>4.0</td>\n",
       "      <td>Yes</td>\n",
       "      <td>1</td>\n",
       "      <td>2.0</td>\n",
       "    </tr>\n",
       "    <tr>\n",
       "      <th>140696</th>\n",
       "      <td>Female</td>\n",
       "      <td>41.0</td>\n",
       "      <td>Hyderabad</td>\n",
       "      <td>Working Professional</td>\n",
       "      <td>Content Writer</td>\n",
       "      <td>-1.0</td>\n",
       "      <td>5.0</td>\n",
       "      <td>-1.00</td>\n",
       "      <td>-1.0</td>\n",
       "      <td>4.0</td>\n",
       "      <td>Moderate</td>\n",
       "      <td>B.Tech</td>\n",
       "      <td>Yes</td>\n",
       "      <td>6.0</td>\n",
       "      <td>5.0</td>\n",
       "      <td>Yes</td>\n",
       "      <td>0</td>\n",
       "      <td>4.0</td>\n",
       "    </tr>\n",
       "    <tr>\n",
       "      <th>140697</th>\n",
       "      <td>Female</td>\n",
       "      <td>24.0</td>\n",
       "      <td>Kolkata</td>\n",
       "      <td>Working Professional</td>\n",
       "      <td>Marketing Manager</td>\n",
       "      <td>-1.0</td>\n",
       "      <td>3.0</td>\n",
       "      <td>-1.00</td>\n",
       "      <td>-1.0</td>\n",
       "      <td>1.0</td>\n",
       "      <td>Moderate</td>\n",
       "      <td>B.Com</td>\n",
       "      <td>No</td>\n",
       "      <td>4.0</td>\n",
       "      <td>4.0</td>\n",
       "      <td>No</td>\n",
       "      <td>0</td>\n",
       "      <td>5.0</td>\n",
       "    </tr>\n",
       "    <tr>\n",
       "      <th>140698</th>\n",
       "      <td>Female</td>\n",
       "      <td>49.0</td>\n",
       "      <td>Srinagar</td>\n",
       "      <td>Working Professional</td>\n",
       "      <td>Plumber</td>\n",
       "      <td>-1.0</td>\n",
       "      <td>5.0</td>\n",
       "      <td>-1.00</td>\n",
       "      <td>-1.0</td>\n",
       "      <td>2.0</td>\n",
       "      <td>Moderate</td>\n",
       "      <td>ME</td>\n",
       "      <td>Yes</td>\n",
       "      <td>10.0</td>\n",
       "      <td>1.0</td>\n",
       "      <td>No</td>\n",
       "      <td>0</td>\n",
       "      <td>2.0</td>\n",
       "    </tr>\n",
       "    <tr>\n",
       "      <th>140699</th>\n",
       "      <td>Male</td>\n",
       "      <td>27.0</td>\n",
       "      <td>Patna</td>\n",
       "      <td>Student</td>\n",
       "      <td>NA</td>\n",
       "      <td>4.0</td>\n",
       "      <td>-1.0</td>\n",
       "      <td>9.24</td>\n",
       "      <td>1.0</td>\n",
       "      <td>-1.0</td>\n",
       "      <td>Healthy</td>\n",
       "      <td>BCA</td>\n",
       "      <td>Yes</td>\n",
       "      <td>2.0</td>\n",
       "      <td>3.0</td>\n",
       "      <td>Yes</td>\n",
       "      <td>1</td>\n",
       "      <td>1.0</td>\n",
       "    </tr>\n",
       "  </tbody>\n",
       "</table>\n",
       "<p>140700 rows × 18 columns</p>\n",
       "</div>"
      ],
      "text/plain": [
       "        Gender   Age           City Working Professional or Student  \\\n",
       "id                                                                    \n",
       "0       Female  49.0       Ludhiana            Working Professional   \n",
       "1         Male  26.0       Varanasi            Working Professional   \n",
       "2         Male  33.0  Visakhapatnam                         Student   \n",
       "3         Male  22.0         Mumbai            Working Professional   \n",
       "4       Female  30.0         Kanpur            Working Professional   \n",
       "...        ...   ...            ...                             ...   \n",
       "140695  Female  18.0      Ahmedabad            Working Professional   \n",
       "140696  Female  41.0      Hyderabad            Working Professional   \n",
       "140697  Female  24.0        Kolkata            Working Professional   \n",
       "140698  Female  49.0       Srinagar            Working Professional   \n",
       "140699    Male  27.0          Patna                         Student   \n",
       "\n",
       "               Profession  Academic Pressure  Work Pressure  CGPA  \\\n",
       "id                                                                  \n",
       "0                    Chef               -1.0            5.0 -1.00   \n",
       "1                 Teacher               -1.0            4.0 -1.00   \n",
       "2                      NA                5.0           -1.0  8.97   \n",
       "3                 Teacher               -1.0            5.0 -1.00   \n",
       "4        Business Analyst               -1.0            1.0 -1.00   \n",
       "...                   ...                ...            ...   ...   \n",
       "140695                 NA               -1.0            5.0 -1.00   \n",
       "140696     Content Writer               -1.0            5.0 -1.00   \n",
       "140697  Marketing Manager               -1.0            3.0 -1.00   \n",
       "140698            Plumber               -1.0            5.0 -1.00   \n",
       "140699                 NA                4.0           -1.0  9.24   \n",
       "\n",
       "        Study Satisfaction  Job Satisfaction Dietary Habits    Degree  \\\n",
       "id                                                                      \n",
       "0                     -1.0               2.0        Healthy       BHM   \n",
       "1                     -1.0               3.0      Unhealthy       LLB   \n",
       "2                      2.0              -1.0        Healthy   B.Pharm   \n",
       "3                     -1.0               1.0       Moderate       BBA   \n",
       "4                     -1.0               1.0      Unhealthy       BBA   \n",
       "...                    ...               ...            ...       ...   \n",
       "140695                -1.0               4.0      Unhealthy  Class 12   \n",
       "140696                -1.0               4.0       Moderate    B.Tech   \n",
       "140697                -1.0               1.0       Moderate     B.Com   \n",
       "140698                -1.0               2.0       Moderate        ME   \n",
       "140699                 1.0              -1.0        Healthy       BCA   \n",
       "\n",
       "       Have you ever had suicidal thoughts ?  Work/Study Hours  \\\n",
       "id                                                               \n",
       "0                                         No               1.0   \n",
       "1                                        Yes               7.0   \n",
       "2                                        Yes               3.0   \n",
       "3                                        Yes              10.0   \n",
       "4                                        Yes               9.0   \n",
       "...                                      ...               ...   \n",
       "140695                                    No               2.0   \n",
       "140696                                   Yes               6.0   \n",
       "140697                                    No               4.0   \n",
       "140698                                   Yes              10.0   \n",
       "140699                                   Yes               2.0   \n",
       "\n",
       "        Financial Stress Family History of Mental Illness  Depression  \\\n",
       "id                                                                      \n",
       "0                    2.0                               No           0   \n",
       "1                    3.0                               No           1   \n",
       "2                    1.0                               No           1   \n",
       "3                    1.0                              Yes           1   \n",
       "4                    4.0                              Yes           0   \n",
       "...                  ...                              ...         ...   \n",
       "140695               4.0                              Yes           1   \n",
       "140696               5.0                              Yes           0   \n",
       "140697               4.0                               No           0   \n",
       "140698               1.0                               No           0   \n",
       "140699               3.0                              Yes           1   \n",
       "\n",
       "        Sleep Quality  \n",
       "id                     \n",
       "0                 5.0  \n",
       "1                 1.0  \n",
       "2                 2.0  \n",
       "3                 1.0  \n",
       "4                 2.0  \n",
       "...               ...  \n",
       "140695            2.0  \n",
       "140696            4.0  \n",
       "140697            5.0  \n",
       "140698            2.0  \n",
       "140699            1.0  \n",
       "\n",
       "[140700 rows x 18 columns]"
      ]
     },
     "execution_count": 32,
     "metadata": {},
     "output_type": "execute_result"
    }
   ],
   "source": [
    "df"
   ]
  },
  {
   "cell_type": "code",
   "execution_count": null,
   "metadata": {},
   "outputs": [],
   "source": []
  },
  {
   "cell_type": "markdown",
   "metadata": {},
   "source": [
    "## Feature Encoding and Model Selection"
   ]
  },
  {
   "cell_type": "code",
   "execution_count": 41,
   "metadata": {
    "execution": {
     "iopub.execute_input": "2025-03-14T16:06:51.457980Z",
     "iopub.status.busy": "2025-03-14T16:06:51.457621Z",
     "iopub.status.idle": "2025-03-14T16:06:51.470208Z",
     "shell.execute_reply": "2025-03-14T16:06:51.469095Z",
     "shell.execute_reply.started": "2025-03-14T16:06:51.457952Z"
    },
    "trusted": true
   },
   "outputs": [],
   "source": [
    "from sklearn.model_selection import train_test_split, StratifiedKFold\n",
    "from sklearn.preprocessing import StandardScaler, OrdinalEncoder\n",
    "from category_encoders.target_encoder import TargetEncoder\n",
    "from sklearn.metrics import roc_auc_score, accuracy_score, f1_score\n",
    "import xgboost as xgb\n",
    "\n",
    "def encode(X_train, X_test, y_train, column_types):\n",
    "\n",
    "    # Scale Numerical Features\n",
    "    scaler = StandardScaler()\n",
    "    X_train[column_types[\"numerical\"]] = scaler.fit_transform(X_train[column_types[\"numerical\"]])\n",
    "    X_test[column_types[\"numerical\"]] = scaler.transform(X_test[column_types[\"numerical\"]])\n",
    "    \n",
    "    # Encode Ordinal Features\n",
    "    ordinal_encoder = OrdinalEncoder()\n",
    "    X_train[column_types[\"ordinal\"]] = ordinal_encoder.fit_transform(X_train[column_types[\"ordinal\"]])\n",
    "    X_test[column_types[\"ordinal\"]] = ordinal_encoder.transform(X_test[column_types[\"ordinal\"]])\n",
    "    \n",
    "    # Encode Categorical Features (One-Hot Encoding for Low Cardinality)\n",
    "    X_train = pd.get_dummies(X_train, columns=column_types[\"categorical\"], drop_first=True)\n",
    "    X_test = pd.get_dummies(X_test, columns=column_types[\"categorical\"], drop_first=True)\n",
    "    \n",
    "    # Encode High-Cardinality Categorical Features (Target Encoding)\n",
    "    target_encoder = TargetEncoder()\n",
    "    X_train[column_types[\"categorical_high\"]] = target_encoder.fit_transform(X_train[column_types[\"categorical_high\"]], y_train)\n",
    "    X_test[column_types[\"categorical_high\"]] = target_encoder.transform(X_test[column_types[\"categorical_high\"]])\n",
    "\n",
    "    # Ensure same feature columns in train and test\n",
    "    missing_cols = set(X_train.columns) - set(X_test.columns)\n",
    "    for col in missing_cols:\n",
    "        X_test[col] = 0\n",
    "    X_test = X_test[X_train.columns]\n",
    "\n",
    "    return (X_train, X_test, y_train)\n",
    "\n",
    "\n",
    "def xgbmodel(X_train, X_test, y_train, column_types):\n",
    "\n",
    "    (X_train, X_test, y_train) = encode(X_train, X_test, y_train, column_types)\n",
    "\n",
    "    # Define Stratified K-Fold CV\n",
    "    kf = StratifiedKFold(n_splits=5, shuffle=True, random_state=42)\n",
    "    \n",
    "    # XGBoost Model\n",
    "    xgb_model = xgb.XGBClassifier(\n",
    "        objective=\"binary:logistic\",\n",
    "        eval_metric=\"auc\",\n",
    "        n_estimators=1000,\n",
    "        learning_rate=0.01,\n",
    "        max_depth=5,\n",
    "        min_child_weight=3,\n",
    "        subsample=0.8,\n",
    "        colsample_bytree=0.8,\n",
    "        gamma=0.1,\n",
    "        use_label_encoder=False,\n",
    "        random_state=1\n",
    "    )\n",
    "    \n",
    "    # Train with Cross Validation\n",
    "    auc_scores = []\n",
    "    for train_idx, val_idx in kf.split(X_train, y_train):\n",
    "        X_train_fold, X_val_fold = X_train.iloc[train_idx], X_train.iloc[val_idx]\n",
    "        y_train_fold, y_val_fold = y_train.iloc[train_idx], y_train.iloc[val_idx]\n",
    "    \n",
    "        xgb_model.fit(\n",
    "            X_train_fold, y_train_fold,\n",
    "            eval_set=[(X_val_fold, y_val_fold)],\n",
    "            early_stopping_rounds=50,\n",
    "            verbose=100\n",
    "        )\n",
    "        y_val_pred = xgb_model.predict_proba(X_val_fold)[:, 1]\n",
    "        auc = roc_auc_score(y_val_fold, y_val_pred)\n",
    "        auc_scores.append(auc)\n",
    "    \n",
    "    print(f\"Mean AUC-ROC on CV: {np.mean(auc_scores):.4f}\")\n",
    "    \n",
    "    return (X_test, xgb_model) "
   ]
  },
  {
   "cell_type": "markdown",
   "metadata": {},
   "source": [
    "### Preparing Data for Training"
   ]
  },
  {
   "cell_type": "code",
   "execution_count": 34,
   "metadata": {
    "execution": {
     "iopub.execute_input": "2025-03-14T15:04:45.366937Z",
     "iopub.status.busy": "2025-03-14T15:04:45.366590Z",
     "iopub.status.idle": "2025-03-14T15:04:45.371480Z",
     "shell.execute_reply": "2025-03-14T15:04:45.370453Z",
     "shell.execute_reply.started": "2025-03-14T15:04:45.366909Z"
    },
    "trusted": true
   },
   "outputs": [],
   "source": [
    "column_types_final = {\n",
    "    \"numerical\": [\n",
    "        \"Age\", \n",
    "        \"Work/Study Hours\", \n",
    "        \"CGPA\",\n",
    "    ],\n",
    "    \"ordinal\": [\n",
    "        \"Academic Pressure\",\n",
    "        \"Study Satisfaction\",\n",
    "        \"Work Pressure\",\n",
    "        \"Job Satisfaction\",\n",
    "        \"Financial Stress\",\n",
    "        \"Sleep Quality\",\n",
    "    ],\n",
    "    \"categorical\": [\n",
    "        \"Gender\",\n",
    "        \"Working Professional or Student\",\n",
    "        \"Dietary Habits\",\n",
    "        \"Have you ever had suicidal thoughts ?\", \n",
    "        \"Family History of Mental Illness\",\n",
    "    ],\n",
    "    \"categorical_high\": [\n",
    "        \"City\", \n",
    "        \"Profession\",\n",
    "        \"Degree\", \n",
    "    ],\n",
    "    \"target\": \"Depression\"\n",
    "}"
   ]
  },
  {
   "cell_type": "code",
   "execution_count": 42,
   "metadata": {
    "execution": {
     "iopub.execute_input": "2025-03-14T16:06:56.372696Z",
     "iopub.status.busy": "2025-03-14T16:06:56.372329Z",
     "iopub.status.idle": "2025-03-14T16:06:56.470387Z",
     "shell.execute_reply": "2025-03-14T16:06:56.469391Z",
     "shell.execute_reply.started": "2025-03-14T16:06:56.372668Z"
    },
    "trusted": true
   },
   "outputs": [],
   "source": [
    "X = df.drop(columns=[\"Depression\"])\n",
    "y = df[\"Depression\"]\n",
    "\n",
    "X_train, X_test, y_train, y_test = train_test_split(X, y, test_size=0.2, stratify=y, random_state=1)"
   ]
  },
  {
   "cell_type": "markdown",
   "metadata": {},
   "source": [
    "## Model Training"
   ]
  },
  {
   "cell_type": "code",
   "execution_count": 43,
   "metadata": {
    "execution": {
     "iopub.execute_input": "2025-03-14T16:06:58.192060Z",
     "iopub.status.busy": "2025-03-14T16:06:58.191610Z",
     "iopub.status.idle": "2025-03-14T16:07:53.710495Z",
     "shell.execute_reply": "2025-03-14T16:07:53.709451Z",
     "shell.execute_reply.started": "2025-03-14T16:06:58.192022Z"
    },
    "trusted": true
   },
   "outputs": [
    {
     "name": "stderr",
     "output_type": "stream",
     "text": [
      "/usr/local/lib/python3.10/dist-packages/xgboost/sklearn.py:889: UserWarning: `early_stopping_rounds` in `fit` method is deprecated for better compatibility with scikit-learn, use `early_stopping_rounds` in constructor or`set_params` instead.\n",
      "  warnings.warn(\n"
     ]
    },
    {
     "name": "stdout",
     "output_type": "stream",
     "text": [
      "[0]\tvalidation_0-auc:0.95411\n",
      "[100]\tvalidation_0-auc:0.96687\n",
      "[200]\tvalidation_0-auc:0.96907\n",
      "[300]\tvalidation_0-auc:0.97077\n",
      "[400]\tvalidation_0-auc:0.97208\n",
      "[500]\tvalidation_0-auc:0.97295\n",
      "[600]\tvalidation_0-auc:0.97345\n",
      "[700]\tvalidation_0-auc:0.97372\n",
      "[800]\tvalidation_0-auc:0.97387\n",
      "[900]\tvalidation_0-auc:0.97399\n",
      "[999]\tvalidation_0-auc:0.97409\n"
     ]
    },
    {
     "name": "stderr",
     "output_type": "stream",
     "text": [
      "/usr/local/lib/python3.10/dist-packages/xgboost/sklearn.py:889: UserWarning: `early_stopping_rounds` in `fit` method is deprecated for better compatibility with scikit-learn, use `early_stopping_rounds` in constructor or`set_params` instead.\n",
      "  warnings.warn(\n"
     ]
    },
    {
     "name": "stdout",
     "output_type": "stream",
     "text": [
      "[0]\tvalidation_0-auc:0.95844\n",
      "[100]\tvalidation_0-auc:0.97024\n",
      "[200]\tvalidation_0-auc:0.97203\n",
      "[300]\tvalidation_0-auc:0.97347\n",
      "[400]\tvalidation_0-auc:0.97466\n",
      "[500]\tvalidation_0-auc:0.97546\n",
      "[600]\tvalidation_0-auc:0.97589\n",
      "[700]\tvalidation_0-auc:0.97614\n",
      "[800]\tvalidation_0-auc:0.97628\n",
      "[900]\tvalidation_0-auc:0.97637\n",
      "[999]\tvalidation_0-auc:0.97643\n"
     ]
    },
    {
     "name": "stderr",
     "output_type": "stream",
     "text": [
      "/usr/local/lib/python3.10/dist-packages/xgboost/sklearn.py:889: UserWarning: `early_stopping_rounds` in `fit` method is deprecated for better compatibility with scikit-learn, use `early_stopping_rounds` in constructor or`set_params` instead.\n",
      "  warnings.warn(\n"
     ]
    },
    {
     "name": "stdout",
     "output_type": "stream",
     "text": [
      "[0]\tvalidation_0-auc:0.95605\n",
      "[100]\tvalidation_0-auc:0.96861\n",
      "[200]\tvalidation_0-auc:0.97058\n",
      "[300]\tvalidation_0-auc:0.97209\n",
      "[400]\tvalidation_0-auc:0.97311\n",
      "[500]\tvalidation_0-auc:0.97389\n",
      "[600]\tvalidation_0-auc:0.97427\n",
      "[700]\tvalidation_0-auc:0.97449\n",
      "[800]\tvalidation_0-auc:0.97465\n",
      "[900]\tvalidation_0-auc:0.97471\n",
      "[999]\tvalidation_0-auc:0.97475\n"
     ]
    },
    {
     "name": "stderr",
     "output_type": "stream",
     "text": [
      "/usr/local/lib/python3.10/dist-packages/xgboost/sklearn.py:889: UserWarning: `early_stopping_rounds` in `fit` method is deprecated for better compatibility with scikit-learn, use `early_stopping_rounds` in constructor or`set_params` instead.\n",
      "  warnings.warn(\n"
     ]
    },
    {
     "name": "stdout",
     "output_type": "stream",
     "text": [
      "[0]\tvalidation_0-auc:0.95572\n",
      "[100]\tvalidation_0-auc:0.96829\n",
      "[200]\tvalidation_0-auc:0.97049\n",
      "[300]\tvalidation_0-auc:0.97216\n",
      "[400]\tvalidation_0-auc:0.97353\n",
      "[500]\tvalidation_0-auc:0.97436\n",
      "[600]\tvalidation_0-auc:0.97486\n",
      "[700]\tvalidation_0-auc:0.97514\n",
      "[800]\tvalidation_0-auc:0.97531\n",
      "[900]\tvalidation_0-auc:0.97541\n",
      "[999]\tvalidation_0-auc:0.97549\n"
     ]
    },
    {
     "name": "stderr",
     "output_type": "stream",
     "text": [
      "/usr/local/lib/python3.10/dist-packages/xgboost/sklearn.py:889: UserWarning: `early_stopping_rounds` in `fit` method is deprecated for better compatibility with scikit-learn, use `early_stopping_rounds` in constructor or`set_params` instead.\n",
      "  warnings.warn(\n"
     ]
    },
    {
     "name": "stdout",
     "output_type": "stream",
     "text": [
      "[0]\tvalidation_0-auc:0.95789\n",
      "[100]\tvalidation_0-auc:0.96976\n",
      "[200]\tvalidation_0-auc:0.97194\n",
      "[300]\tvalidation_0-auc:0.97345\n",
      "[400]\tvalidation_0-auc:0.97461\n",
      "[500]\tvalidation_0-auc:0.97534\n",
      "[600]\tvalidation_0-auc:0.97579\n",
      "[700]\tvalidation_0-auc:0.97601\n",
      "[800]\tvalidation_0-auc:0.97615\n",
      "[900]\tvalidation_0-auc:0.97621\n",
      "[999]\tvalidation_0-auc:0.97625\n",
      "Mean AUC-ROC on CV: 0.9754\n"
     ]
    }
   ],
   "source": [
    "(X_test, xgb_model) = xgbmodel(X_train, X_test, y_train, column_types_final)"
   ]
  },
  {
   "cell_type": "markdown",
   "metadata": {},
   "source": [
    "## Model Evaluation"
   ]
  },
  {
   "cell_type": "code",
   "execution_count": 44,
   "metadata": {
    "execution": {
     "iopub.execute_input": "2025-03-14T16:08:40.481920Z",
     "iopub.status.busy": "2025-03-14T16:08:40.481527Z",
     "iopub.status.idle": "2025-03-14T16:08:41.031870Z",
     "shell.execute_reply": "2025-03-14T16:08:41.030860Z",
     "shell.execute_reply.started": "2025-03-14T16:08:40.481876Z"
    },
    "trusted": true
   },
   "outputs": [
    {
     "name": "stdout",
     "output_type": "stream",
     "text": [
      "Test AUC-ROC: 0.9745\n",
      "Test Accuracy: 0.9381\n",
      "Test F1-Score: 0.8252\n"
     ]
    }
   ],
   "source": [
    "y_test_pred = xgb_model.predict(X_test)\n",
    "y_test_proba = xgb_model.predict_proba(X_test)[:, 1]\n",
    "\n",
    "auc_score = roc_auc_score(y_test, y_test_proba)\n",
    "accuracy = accuracy_score(y_test, y_test_pred)\n",
    "f1 = f1_score(y_test, y_test_pred)\n",
    "\n",
    "print(f\"Test AUC-ROC: {auc_score:.4f}\")\n",
    "print(f\"Test Accuracy: {accuracy:.4f}\")\n",
    "print(f\"Test F1-Score: {f1:.4f}\")"
   ]
  },
  {
   "cell_type": "code",
   "execution_count": null,
   "metadata": {},
   "outputs": [],
   "source": []
  },
  {
   "cell_type": "markdown",
   "metadata": {},
   "source": [
    "### For better accuracy, re-train the model on the entire training set"
   ]
  },
  {
   "cell_type": "code",
   "execution_count": 46,
   "metadata": {
    "execution": {
     "iopub.execute_input": "2025-03-14T16:10:23.296999Z",
     "iopub.status.busy": "2025-03-14T16:10:23.296667Z",
     "iopub.status.idle": "2025-03-14T16:11:32.354500Z",
     "shell.execute_reply": "2025-03-14T16:11:32.353676Z",
     "shell.execute_reply.started": "2025-03-14T16:10:23.296973Z"
    },
    "trusted": true
   },
   "outputs": [
    {
     "name": "stderr",
     "output_type": "stream",
     "text": [
      "/usr/local/lib/python3.10/dist-packages/xgboost/sklearn.py:889: UserWarning: `early_stopping_rounds` in `fit` method is deprecated for better compatibility with scikit-learn, use `early_stopping_rounds` in constructor or`set_params` instead.\n",
      "  warnings.warn(\n"
     ]
    },
    {
     "name": "stdout",
     "output_type": "stream",
     "text": [
      "[0]\tvalidation_0-auc:0.95655\n",
      "[100]\tvalidation_0-auc:0.96814\n",
      "[200]\tvalidation_0-auc:0.97038\n",
      "[300]\tvalidation_0-auc:0.97201\n",
      "[400]\tvalidation_0-auc:0.97318\n",
      "[500]\tvalidation_0-auc:0.97408\n",
      "[600]\tvalidation_0-auc:0.97462\n",
      "[700]\tvalidation_0-auc:0.97489\n",
      "[800]\tvalidation_0-auc:0.97508\n",
      "[900]\tvalidation_0-auc:0.97520\n",
      "[999]\tvalidation_0-auc:0.97527\n"
     ]
    },
    {
     "name": "stderr",
     "output_type": "stream",
     "text": [
      "/usr/local/lib/python3.10/dist-packages/xgboost/sklearn.py:889: UserWarning: `early_stopping_rounds` in `fit` method is deprecated for better compatibility with scikit-learn, use `early_stopping_rounds` in constructor or`set_params` instead.\n",
      "  warnings.warn(\n"
     ]
    },
    {
     "name": "stdout",
     "output_type": "stream",
     "text": [
      "[0]\tvalidation_0-auc:0.95356\n",
      "[100]\tvalidation_0-auc:0.96631\n",
      "[200]\tvalidation_0-auc:0.96869\n",
      "[300]\tvalidation_0-auc:0.97041\n",
      "[400]\tvalidation_0-auc:0.97180\n",
      "[500]\tvalidation_0-auc:0.97268\n",
      "[600]\tvalidation_0-auc:0.97319\n",
      "[700]\tvalidation_0-auc:0.97351\n",
      "[800]\tvalidation_0-auc:0.97368\n",
      "[900]\tvalidation_0-auc:0.97379\n",
      "[999]\tvalidation_0-auc:0.97386\n"
     ]
    },
    {
     "name": "stderr",
     "output_type": "stream",
     "text": [
      "/usr/local/lib/python3.10/dist-packages/xgboost/sklearn.py:889: UserWarning: `early_stopping_rounds` in `fit` method is deprecated for better compatibility with scikit-learn, use `early_stopping_rounds` in constructor or`set_params` instead.\n",
      "  warnings.warn(\n"
     ]
    },
    {
     "name": "stdout",
     "output_type": "stream",
     "text": [
      "[0]\tvalidation_0-auc:0.95753\n",
      "[100]\tvalidation_0-auc:0.96882\n",
      "[200]\tvalidation_0-auc:0.97073\n",
      "[300]\tvalidation_0-auc:0.97228\n",
      "[400]\tvalidation_0-auc:0.97340\n",
      "[500]\tvalidation_0-auc:0.97414\n",
      "[600]\tvalidation_0-auc:0.97458\n",
      "[700]\tvalidation_0-auc:0.97485\n",
      "[800]\tvalidation_0-auc:0.97503\n",
      "[900]\tvalidation_0-auc:0.97514\n",
      "[999]\tvalidation_0-auc:0.97523\n"
     ]
    },
    {
     "name": "stderr",
     "output_type": "stream",
     "text": [
      "/usr/local/lib/python3.10/dist-packages/xgboost/sklearn.py:889: UserWarning: `early_stopping_rounds` in `fit` method is deprecated for better compatibility with scikit-learn, use `early_stopping_rounds` in constructor or`set_params` instead.\n",
      "  warnings.warn(\n"
     ]
    },
    {
     "name": "stdout",
     "output_type": "stream",
     "text": [
      "[0]\tvalidation_0-auc:0.95852\n",
      "[100]\tvalidation_0-auc:0.97061\n",
      "[200]\tvalidation_0-auc:0.97249\n",
      "[300]\tvalidation_0-auc:0.97380\n",
      "[400]\tvalidation_0-auc:0.97493\n",
      "[500]\tvalidation_0-auc:0.97575\n",
      "[600]\tvalidation_0-auc:0.97615\n",
      "[700]\tvalidation_0-auc:0.97638\n",
      "[800]\tvalidation_0-auc:0.97651\n",
      "[900]\tvalidation_0-auc:0.97657\n",
      "[999]\tvalidation_0-auc:0.97663\n"
     ]
    },
    {
     "name": "stderr",
     "output_type": "stream",
     "text": [
      "/usr/local/lib/python3.10/dist-packages/xgboost/sklearn.py:889: UserWarning: `early_stopping_rounds` in `fit` method is deprecated for better compatibility with scikit-learn, use `early_stopping_rounds` in constructor or`set_params` instead.\n",
      "  warnings.warn(\n"
     ]
    },
    {
     "name": "stdout",
     "output_type": "stream",
     "text": [
      "[0]\tvalidation_0-auc:0.95678\n",
      "[100]\tvalidation_0-auc:0.96826\n",
      "[200]\tvalidation_0-auc:0.97044\n",
      "[300]\tvalidation_0-auc:0.97211\n",
      "[400]\tvalidation_0-auc:0.97327\n",
      "[500]\tvalidation_0-auc:0.97414\n",
      "[600]\tvalidation_0-auc:0.97464\n",
      "[700]\tvalidation_0-auc:0.97492\n",
      "[800]\tvalidation_0-auc:0.97510\n",
      "[900]\tvalidation_0-auc:0.97521\n",
      "[999]\tvalidation_0-auc:0.97527\n",
      "Mean AUC-ROC on CV: 0.9753\n"
     ]
    }
   ],
   "source": [
    "X_train_final = df.drop(columns=[\"Depression\"])\n",
    "y_train_final = df[\"Depression\"]\n",
    "X_test_final = df_test\n",
    "\n",
    "(X_test_final, xgb_model_final) = xgbmodel(X_train_final, X_test_final, y_train_final, column_types_final)"
   ]
  },
  {
   "cell_type": "markdown",
   "metadata": {},
   "source": [
    "## Final Predictions"
   ]
  },
  {
   "cell_type": "code",
   "execution_count": 47,
   "metadata": {
    "execution": {
     "iopub.execute_input": "2025-03-14T16:11:48.020758Z",
     "iopub.status.busy": "2025-03-14T16:11:48.020338Z",
     "iopub.status.idle": "2025-03-14T16:11:48.900133Z",
     "shell.execute_reply": "2025-03-14T16:11:48.899301Z",
     "shell.execute_reply.started": "2025-03-14T16:11:48.020720Z"
    },
    "trusted": true
   },
   "outputs": [],
   "source": [
    "y_test_pred_final = xgb_model_final.predict(X_test_final)"
   ]
  },
  {
   "cell_type": "code",
   "execution_count": 49,
   "metadata": {
    "execution": {
     "iopub.execute_input": "2025-03-14T16:18:08.569333Z",
     "iopub.status.busy": "2025-03-14T16:18:08.568962Z",
     "iopub.status.idle": "2025-03-14T16:18:08.643690Z",
     "shell.execute_reply": "2025-03-14T16:18:08.642693Z",
     "shell.execute_reply.started": "2025-03-14T16:18:08.569304Z"
    },
    "trusted": true
   },
   "outputs": [],
   "source": [
    "predictions_df = pd.DataFrame({\n",
    "    \"id\": X_test_final.index,\n",
    "    \"Depression\": y_test_pred_final\n",
    "})\n",
    "\n",
    "predictions_df.to_csv(\"predictions.csv\", index=False)"
   ]
  },
  {
   "cell_type": "code",
   "execution_count": null,
   "metadata": {
    "trusted": true
   },
   "outputs": [],
   "source": []
  }
 ],
 "metadata": {
  "kaggle": {
   "accelerator": "none",
   "dataSources": [
    {
     "databundleVersionId": 11044724,
     "sourceId": 92699,
     "sourceType": "competition"
    }
   ],
   "isGpuEnabled": false,
   "isInternetEnabled": false,
   "language": "python",
   "sourceType": "notebook"
  },
  "kernelspec": {
   "display_name": "Python 3",
   "language": "python",
   "name": "python3"
  },
  "language_info": {
   "codemirror_mode": {
    "name": "ipython",
    "version": 3
   },
   "file_extension": ".py",
   "mimetype": "text/x-python",
   "name": "python",
   "nbconvert_exporter": "python",
   "pygments_lexer": "ipython3",
   "version": "3.13.2"
  }
 },
 "nbformat": 4,
 "nbformat_minor": 4
}
